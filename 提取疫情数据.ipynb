{
 "cells": [
  {
   "cell_type": "code",
   "execution_count": 1,
   "id": "551a514e",
   "metadata": {},
   "outputs": [
    {
     "name": "stdout",
     "output_type": "stream",
     "text": [
      "<class 'list'>\n"
     ]
    }
   ],
   "source": [
    "import requests\n",
    "import re\n",
    "import json\n",
    "import csv\n",
    "import pandas as pd\n",
    "\n",
    "#身份伪装，其实没必要\n",
    "\n",
    "headers={'user-agent':'Mozilla/5.0'}\n",
    "#请求地址\n",
    "\n",
    "url='https://voice.baidu.com/act/newpneumonia/newpneumonia/?from=osari_aladin_banner'\n",
    "\n",
    "#发送请求\n",
    "response=requests.get(url=url,headers=headers)\n",
    "\n",
    "#数据解析\n",
    "\n",
    "data_html=response.text\n",
    "json_str = re.findall('\"component\":\\[(.*)\\],', data_html)[0]     # 字符串\n",
    "# 字典类型取值, 转类型\n",
    "# print(json_str[0:100])\n",
    "json_dict = eval(json_str)\n",
    "caseList = json_dict['caseList']\n",
    "print(type(caseList))\n",
    "# print(caseList[0])\n",
    "df = pd.DataFrame(columns=['疫情地区', '新增', '现有', '累计', '治愈', '死亡'])\n",
    "i = 0\n",
    "for case in caseList:\n",
    "    area = case['area']                                 # 城市\n",
    "    curConfirmRelative = case['curConfirmRelative']     # 新增人数\n",
    "    curConfirm = case['curConfirm']                     # 当前确诊\n",
    "    confirmed = case['confirmed']                       # 累计确诊\n",
    "    crued = case['crued']                               # 治愈人数\n",
    "    died = case['died']                                 # 死亡人数\n",
    "    df.loc[i] = [area, curConfirm, curConfirmRelative, confirmed, crued, died]\n",
    "    i += 1\n",
    "#     print(area, curConfirm, curConfirmRelative, confirmed, crued, died)\n",
    "\n",
    "df.to_csv(\"./疫情数据.csv\",index = False,encoding=\"utf_8_sig\")"
   ]
  },
  {
   "cell_type": "code",
   "execution_count": null,
   "id": "6b740394",
   "metadata": {},
   "outputs": [],
   "source": []
  }
 ],
 "metadata": {
  "kernelspec": {
   "display_name": "Python 3 (ipykernel)",
   "language": "python",
   "name": "python3"
  },
  "language_info": {
   "codemirror_mode": {
    "name": "ipython",
    "version": 3
   },
   "file_extension": ".py",
   "mimetype": "text/x-python",
   "name": "python",
   "nbconvert_exporter": "python",
   "pygments_lexer": "ipython3",
   "version": "3.8.5"
  }
 },
 "nbformat": 4,
 "nbformat_minor": 5
}
