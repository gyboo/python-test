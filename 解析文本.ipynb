{
 "cells": [
  {
   "cell_type": "code",
   "execution_count": 1,
   "id": "551a514e",
   "metadata": {},
   "outputs": [
    {
     "name": "stdout",
     "output_type": "stream",
     "text": [
      "<class 'list'>\n"
     ]
    }
   ],
   "source": [
    "long_text = \"\"\"\n",
    "Variopartner SICAV\n",
    "529900LPCSV88817QH61\n",
    "1. TARENO GLOBAL WATER SOLUTIONS FUND\n",
    "LU2001709034\n",
    "LU2057889995\n",
    "LU2001709547\n",
    "2. TARENO FIXED INCOME FUND\n",
    "LU1299722972\n",
    "3. TARENO GLOBAL EQUITY FUND\n",
    "LU1299721909\n",
    "LU1299722113\n",
    "LU1299722030\n",
    "4. MIV GLOBAL MEDTECH FUND\n",
    "LU0329630999\n",
    "LU0329630130\n",
    "\"\"\"\n",
    "outputObject = {}\n",
    " \n",
    "paragraphs = long_text.split('\\n')\n",
    " \n",
    "sub_fund = []\n",
    "sub_fund_object = {}\n",
    "isin_list = []\n",
    "\n",
    "name = paragraphs[1]\n",
    "outputObject[\"name\"] = name \n",
    "lei  = paragraphs[2]\n",
    "outputObject[\"lei\"] = lei\n",
    " \n",
    "# 循环剩下段落\n",
    "for i in range(3,len(paragraphs)):\n",
    "    # 检测是否为TITLE行\n",
    "    if (paragraphs[i].find('.') != -1): #是\n",
    "        # 处理非空的 sub_fund\n",
    "        if (len(isin_list) != 0):\n",
    "            sub_fund_object[\"isin\"] = isin_list; #设置List为上一个关键字\n",
    "            sub_fund.append(sub_fund_object) # Append进sub_fund列表\n",
    " \n",
    "            sub_fund_object = {} # 残留处理\n",
    "            isin_list = []\n",
    " \n",
    "        # 设置字典\n",
    "        sub_fund_object[\"title\"] = paragraphs[i][2:]\n",
    "    else: # 是isin行\n",
    "        isin_list.append(paragraphs[i])\n",
    " \n",
    "# 由于最后一行没有处理sub_fund, 在这边再处理一次\n",
    "if (len(isin_list) != 0):\n",
    "    sub_fund_object[\"isin\"] = isin_list #设置List为上一个关键字\n",
    "    sub_fund.append(sub_fund_object)# Append进sub_fund列表\n",
    " \n",
    "    sub_fund_object = {}; # 残留处理\n",
    "    isin_list = []\n",
    " \n",
    "# sub_fund处理完成，给sub_fund送进Object\n",
    "outputObject[\"sub_fund\"] = sub_fund\n",
    " \n",
    "# print(outputObject)\n",
    "for key,val in outputObject.items():\n",
    "    if(key == \"sub_fund\"):\n",
    "        for i in range(len(val)):\n",
    "            if(i == 0):\n",
    "                print(key)\n",
    "            print(val[i])\n",
    "    else:\n",
    "        print(key,val)"
   ]
  },
  {
   "cell_type": "code",
   "execution_count": null,
   "id": "b39816e0",
   "metadata": {},
   "outputs": [],
   "source": []
  }
 ],
 "metadata": {
  "kernelspec": {
   "display_name": "Python 3 (ipykernel)",
   "language": "python",
   "name": "python3"
  },
  "language_info": {
   "codemirror_mode": {
    "name": "ipython",
    "version": 3
   },
   "file_extension": ".py",
   "mimetype": "text/x-python",
   "name": "python",
   "nbconvert_exporter": "python",
   "pygments_lexer": "ipython3",
   "version": "3.8.5"
  }
 },
 "nbformat": 4,
 "nbformat_minor": 5
}
